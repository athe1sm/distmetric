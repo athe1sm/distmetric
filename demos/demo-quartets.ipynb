{
 "cells": [
  {
   "cell_type": "markdown",
   "id": "mounted-calibration",
   "metadata": {},
   "source": [
    "## Distmetric demo"
   ]
  },
  {
   "cell_type": "code",
   "execution_count": 1,
   "id": "worthy-reputation",
   "metadata": {},
   "outputs": [],
   "source": [
    "# import package and relevant dependencies\n",
    "\n",
    "import toytree\n",
    "import numpy as np\n",
    "import pandas as pd\n",
    "import itertools\n",
    "import os\n",
    "\n",
    "import distmetric"
   ]
  },
  {
   "cell_type": "code",
   "execution_count": 2,
   "id": "recreational-continent",
   "metadata": {},
   "outputs": [],
   "source": [
    "# generate 10 random trees with Generator and save to variable named randomtrees\n",
    "TREES = distmetric.Generator(ntrees=10, ntips=20, treeheight=1.0)\n",
    "randomtrees = TREES.get_randomtrees()"
   ]
  },
  {
   "cell_type": "code",
   "execution_count": 3,
   "id": "engaged-bunny",
   "metadata": {},
   "outputs": [
    {
     "data": {
      "text/html": [
       "<div class=\"toyplot\" id=\"t62707adbe6da4d7f98d54d59e61e0c11\" style=\"text-align:center\"><svg class=\"toyplot-canvas-Canvas\" xmlns:toyplot=\"http://www.sandia.gov/toyplot\" xmlns:xlink=\"http://www.w3.org/1999/xlink\" xmlns=\"http://www.w3.org/2000/svg\" width=\"265.0px\" height=\"360.0px\" viewBox=\"0 0 265.0 360.0\" preserveAspectRatio=\"xMidYMid meet\" style=\"background-color:transparent;border-color:#292724;border-style:none;border-width:1.0;fill:rgb(16.1%,15.3%,14.1%);fill-opacity:1.0;font-family:Helvetica;font-size:12px;opacity:1.0;stroke:rgb(16.1%,15.3%,14.1%);stroke-opacity:1.0;stroke-width:1.0\" id=\"t4f1a82111de1471da0f10269cec25d62\"><g class=\"toyplot-coordinates-Cartesian\" id=\"t157e1d616f694f1c924c775b3be8c0a4\"><clipPath id=\"t1489e75ee93a461c9fafbf7a3e7d554a\"><rect x=\"30.0\" y=\"30.0\" width=\"205.0\" height=\"300.0\"></rect></clipPath><g clip-path=\"url(#t1489e75ee93a461c9fafbf7a3e7d554a)\"><g class=\"toytree-mark-Toytree\" id=\"ta3104ee057aa407ba3e3d162d1ce9499\"><g class=\"toytree-Edges\" style=\"fill:none;stroke:rgb(14.9%,14.9%,14.9%);stroke-linecap:round;stroke-opacity:1;stroke-width:2\"><path d=\"M 51.7 150.2 L 51.7 101.3 L 74.7 101.3\" id=\"38,37\"></path><path d=\"M 51.7 150.2 L 51.7 199.1 L 74.7 199.1\" id=\"38,36\"></path><path d=\"M 74.7 101.3 L 74.7 72.4 L 97.7 72.4\" id=\"37,35\"></path><path d=\"M 74.7 101.3 L 74.7 130.1 L 97.7 130.1\" id=\"37,34\"></path><path d=\"M 74.7 199.1 L 74.7 167.5 L 97.7 167.5\" id=\"36,33\"></path><path d=\"M 74.7 199.1 L 74.7 230.7 L 97.7 230.7\" id=\"36,32\"></path><path d=\"M 97.7 72.4 L 97.7 83.3 L 120.7 83.3\" id=\"35,31\"></path><path d=\"M 97.7 130.1 L 97.7 117.6 L 120.7 117.6\" id=\"34,30\"></path><path d=\"M 97.7 130.1 L 97.7 142.6 L 120.7 142.6\" id=\"34,29\"></path><path d=\"M 97.7 230.7 L 97.7 197.2 L 120.7 197.2\" id=\"32,28\"></path><path d=\"M 97.7 230.7 L 97.7 264.2 L 120.7 264.2\" id=\"32,27\"></path><path d=\"M 120.7 83.3 L 120.7 92.7 L 143.6 92.7\" id=\"31,26\"></path><path d=\"M 120.7 197.2 L 120.7 208.1 L 143.6 208.1\" id=\"28,25\"></path><path d=\"M 120.7 264.2 L 120.7 245.5 L 143.6 245.5\" id=\"27,24\"></path><path d=\"M 120.7 264.2 L 120.7 282.9 L 143.6 282.9\" id=\"27,23\"></path><path d=\"M 143.6 208.1 L 143.6 217.4 L 166.6 217.4\" id=\"25,22\"></path><path d=\"M 143.6 245.5 L 143.6 254.9 L 166.6 254.9\" id=\"24,21\"></path><path d=\"M 143.6 282.9 L 143.6 292.3 L 166.6 292.3\" id=\"23,20\"></path><path d=\"M 97.7 72.4 L 97.7 61.5 L 189.6 61.5\" id=\"35,19\"></path><path d=\"M 120.7 83.3 L 120.7 74.0 L 189.6 74.0\" id=\"31,18\"></path><path d=\"M 143.6 92.7 L 143.6 86.4 L 189.6 86.4\" id=\"26,17\"></path><path d=\"M 143.6 92.7 L 143.6 98.9 L 189.6 98.9\" id=\"26,16\"></path><path d=\"M 120.7 117.6 L 120.7 111.4 L 189.6 111.4\" id=\"30,15\"></path><path d=\"M 120.7 117.6 L 120.7 123.9 L 189.6 123.9\" id=\"30,14\"></path><path d=\"M 120.7 142.6 L 120.7 136.3 L 189.6 136.3\" id=\"29,13\"></path><path d=\"M 120.7 142.6 L 120.7 148.8 L 189.6 148.8\" id=\"29,12\"></path><path d=\"M 97.7 167.5 L 97.7 161.3 L 189.6 161.3\" id=\"33,11\"></path><path d=\"M 97.7 167.5 L 97.7 173.8 L 189.6 173.8\" id=\"33,10\"></path><path d=\"M 120.7 197.2 L 120.7 186.2 L 189.6 186.2\" id=\"28,9\"></path><path d=\"M 143.6 208.1 L 143.6 198.7 L 189.6 198.7\" id=\"25,8\"></path><path d=\"M 166.6 217.4 L 166.6 211.2 L 189.6 211.2\" id=\"22,7\"></path><path d=\"M 166.6 217.4 L 166.6 223.7 L 189.6 223.7\" id=\"22,6\"></path><path d=\"M 143.6 245.5 L 143.6 236.1 L 189.6 236.1\" id=\"24,5\"></path><path d=\"M 166.6 254.9 L 166.6 248.6 L 189.6 248.6\" id=\"21,4\"></path><path d=\"M 166.6 254.9 L 166.6 261.1 L 189.6 261.1\" id=\"21,3\"></path><path d=\"M 143.6 282.9 L 143.6 273.6 L 189.6 273.6\" id=\"23,2\"></path><path d=\"M 166.6 292.3 L 166.6 286.0 L 189.6 286.0\" id=\"20,1\"></path><path d=\"M 166.6 292.3 L 166.6 298.5 L 189.6 298.5\" id=\"20,0\"></path></g><g class=\"toytree-TipLabels\" style=\"fill:rgb(14.9%,14.9%,14.9%);fill-opacity:1.0;font-family:helvetica;font-size:11px;font-weight:normal;stroke:none;white-space:pre\"><g transform=\"translate(189.63,298.51)rotate(0)\"><text x=\"15.00\" y=\"2.81\" style=\"\">r18</text></g><g transform=\"translate(189.63,286.04)rotate(0)\"><text x=\"15.00\" y=\"2.81\" style=\"\">r12</text></g><g transform=\"translate(189.63,273.56)rotate(0)\"><text x=\"15.00\" y=\"2.81\" style=\"\">r19</text></g><g transform=\"translate(189.63,261.09)rotate(0)\"><text x=\"15.00\" y=\"2.81\" style=\"\">r7</text></g><g transform=\"translate(189.63,248.61)rotate(0)\"><text x=\"15.00\" y=\"2.81\" style=\"\">r8</text></g><g transform=\"translate(189.63,236.14)rotate(0)\"><text x=\"15.00\" y=\"2.81\" style=\"\">r15</text></g><g transform=\"translate(189.63,223.66)rotate(0)\"><text x=\"15.00\" y=\"2.81\" style=\"\">r17</text></g><g transform=\"translate(189.63,211.19)rotate(0)\"><text x=\"15.00\" y=\"2.81\" style=\"\">r9</text></g><g transform=\"translate(189.63,198.71)rotate(0)\"><text x=\"15.00\" y=\"2.81\" style=\"\">r3</text></g><g transform=\"translate(189.63,186.24)rotate(0)\"><text x=\"15.00\" y=\"2.81\" style=\"\">r6</text></g><g transform=\"translate(189.63,173.76)rotate(0)\"><text x=\"15.00\" y=\"2.81\" style=\"\">r16</text></g><g transform=\"translate(189.63,161.29)rotate(0)\"><text x=\"15.00\" y=\"2.81\" style=\"\">r10</text></g><g transform=\"translate(189.63,148.81)rotate(0)\"><text x=\"15.00\" y=\"2.81\" style=\"\">r13</text></g><g transform=\"translate(189.63,136.34)rotate(0)\"><text x=\"15.00\" y=\"2.81\" style=\"\">r2</text></g><g transform=\"translate(189.63,123.86)rotate(0)\"><text x=\"15.00\" y=\"2.81\" style=\"\">r4</text></g><g transform=\"translate(189.63,111.39)rotate(0)\"><text x=\"15.00\" y=\"2.81\" style=\"\">r14</text></g><g transform=\"translate(189.63,98.91)rotate(0)\"><text x=\"15.00\" y=\"2.81\" style=\"\">r11</text></g><g transform=\"translate(189.63,86.44)rotate(0)\"><text x=\"15.00\" y=\"2.81\" style=\"\">r1</text></g><g transform=\"translate(189.63,73.96)rotate(0)\"><text x=\"15.00\" y=\"2.81\" style=\"\">r0</text></g><g transform=\"translate(189.63,61.49)rotate(0)\"><text x=\"15.00\" y=\"2.81\" style=\"\">r5</text></g></g></g></g></g></svg><div class=\"toyplot-behavior\"><script>(function()\n",
       "{\n",
       "var modules={};\n",
       "})();</script></div></div>"
      ]
     },
     "metadata": {},
     "output_type": "display_data"
    }
   ],
   "source": [
    "# examine the 10 random trees by looking at one of the trees\n",
    "randomtrees[0].draw();"
   ]
  },
  {
   "cell_type": "code",
   "execution_count": 4,
   "id": "burning-dover",
   "metadata": {},
   "outputs": [
    {
     "data": {
      "text/html": [
       "<div>\n",
       "<style scoped>\n",
       "    .dataframe tbody tr th:only-of-type {\n",
       "        vertical-align: middle;\n",
       "    }\n",
       "\n",
       "    .dataframe tbody tr th {\n",
       "        vertical-align: top;\n",
       "    }\n",
       "\n",
       "    .dataframe thead th {\n",
       "        text-align: right;\n",
       "    }\n",
       "</style>\n",
       "<table border=\"1\" class=\"dataframe\">\n",
       "  <thead>\n",
       "    <tr style=\"text-align: right;\">\n",
       "      <th></th>\n",
       "      <th>trees</th>\n",
       "      <th>Quartet_intersection</th>\n",
       "    </tr>\n",
       "  </thead>\n",
       "  <tbody>\n",
       "    <tr>\n",
       "      <th>0</th>\n",
       "      <td>0, 1</td>\n",
       "      <td>0.275955</td>\n",
       "    </tr>\n",
       "    <tr>\n",
       "      <th>1</th>\n",
       "      <td>1, 2</td>\n",
       "      <td>0.310010</td>\n",
       "    </tr>\n",
       "    <tr>\n",
       "      <th>2</th>\n",
       "      <td>2, 3</td>\n",
       "      <td>0.350258</td>\n",
       "    </tr>\n",
       "    <tr>\n",
       "      <th>3</th>\n",
       "      <td>3, 4</td>\n",
       "      <td>0.288338</td>\n",
       "    </tr>\n",
       "    <tr>\n",
       "      <th>4</th>\n",
       "      <td>4, 5</td>\n",
       "      <td>0.380392</td>\n",
       "    </tr>\n",
       "    <tr>\n",
       "      <th>5</th>\n",
       "      <td>5, 6</td>\n",
       "      <td>0.326109</td>\n",
       "    </tr>\n",
       "    <tr>\n",
       "      <th>6</th>\n",
       "      <td>6, 7</td>\n",
       "      <td>0.331269</td>\n",
       "    </tr>\n",
       "    <tr>\n",
       "      <th>7</th>\n",
       "      <td>7, 8</td>\n",
       "      <td>0.319711</td>\n",
       "    </tr>\n",
       "    <tr>\n",
       "      <th>8</th>\n",
       "      <td>8, 9</td>\n",
       "      <td>0.311662</td>\n",
       "    </tr>\n",
       "  </tbody>\n",
       "</table>\n",
       "</div>"
      ],
      "text/plain": [
       "  trees  Quartet_intersection\n",
       "0  0, 1              0.275955\n",
       "1  1, 2              0.310010\n",
       "2  2, 3              0.350258\n",
       "3  3, 4              0.288338\n",
       "4  4, 5              0.380392\n",
       "5  5, 6              0.326109\n",
       "6  6, 7              0.331269\n",
       "7  7, 8              0.319711\n",
       "8  8, 9              0.311662"
      ]
     },
     "execution_count": 4,
     "metadata": {},
     "output_type": "execute_result"
    }
   ],
   "source": [
    "# calculate quartet distances with 10 random trees and PAIRWISE sampling\n",
    "quart = distmetric.Quartets(trees=randomtrees, sampmethod=\"pairwise\")\n",
    "quart.run()\n",
    "quart.output"
   ]
  },
  {
   "cell_type": "code",
   "execution_count": 5,
   "id": "proprietary-system",
   "metadata": {},
   "outputs": [
    {
     "data": {
      "text/html": [
       "<div>\n",
       "<style scoped>\n",
       "    .dataframe tbody tr th:only-of-type {\n",
       "        vertical-align: middle;\n",
       "    }\n",
       "\n",
       "    .dataframe tbody tr th {\n",
       "        vertical-align: top;\n",
       "    }\n",
       "\n",
       "    .dataframe thead th {\n",
       "        text-align: right;\n",
       "    }\n",
       "</style>\n",
       "<table border=\"1\" class=\"dataframe\">\n",
       "  <thead>\n",
       "    <tr style=\"text-align: right;\">\n",
       "      <th></th>\n",
       "      <th>trees</th>\n",
       "      <th>Quartet_intersection</th>\n",
       "    </tr>\n",
       "  </thead>\n",
       "  <tbody>\n",
       "    <tr>\n",
       "      <th>0</th>\n",
       "      <td>8, 2</td>\n",
       "      <td>0.332095</td>\n",
       "    </tr>\n",
       "    <tr>\n",
       "      <th>1</th>\n",
       "      <td>2, 7</td>\n",
       "      <td>0.341796</td>\n",
       "    </tr>\n",
       "    <tr>\n",
       "      <th>2</th>\n",
       "      <td>7, 3</td>\n",
       "      <td>0.366563</td>\n",
       "    </tr>\n",
       "    <tr>\n",
       "      <th>3</th>\n",
       "      <td>3, 1</td>\n",
       "      <td>0.422910</td>\n",
       "    </tr>\n",
       "    <tr>\n",
       "      <th>4</th>\n",
       "      <td>1, 0</td>\n",
       "      <td>0.275955</td>\n",
       "    </tr>\n",
       "    <tr>\n",
       "      <th>5</th>\n",
       "      <td>0, 5</td>\n",
       "      <td>0.350052</td>\n",
       "    </tr>\n",
       "    <tr>\n",
       "      <th>6</th>\n",
       "      <td>5, 6</td>\n",
       "      <td>0.326109</td>\n",
       "    </tr>\n",
       "    <tr>\n",
       "      <th>7</th>\n",
       "      <td>6, 9</td>\n",
       "      <td>0.357069</td>\n",
       "    </tr>\n",
       "    <tr>\n",
       "      <th>8</th>\n",
       "      <td>9, 4</td>\n",
       "      <td>0.311455</td>\n",
       "    </tr>\n",
       "  </tbody>\n",
       "</table>\n",
       "</div>"
      ],
      "text/plain": [
       "  trees  Quartet_intersection\n",
       "0  8, 2              0.332095\n",
       "1  2, 7              0.341796\n",
       "2  7, 3              0.366563\n",
       "3  3, 1              0.422910\n",
       "4  1, 0              0.275955\n",
       "5  0, 5              0.350052\n",
       "6  5, 6              0.326109\n",
       "7  6, 9              0.357069\n",
       "8  9, 4              0.311455"
      ]
     },
     "execution_count": 5,
     "metadata": {},
     "output_type": "execute_result"
    }
   ],
   "source": [
    "# calculate quartet distances with 10 random trees and RANDOM sampling\n",
    "quart = distmetric.Quartets(trees=randomtrees, sampmethod=\"random\")\n",
    "quart.run()\n",
    "quart.output"
   ]
  }
 ],
 "metadata": {
  "kernelspec": {
   "display_name": "Python 3",
   "language": "python",
   "name": "python3"
  },
  "language_info": {
   "codemirror_mode": {
    "name": "ipython",
    "version": 3
   },
   "file_extension": ".py",
   "mimetype": "text/x-python",
   "name": "python",
   "nbconvert_exporter": "python",
   "pygments_lexer": "ipython3",
   "version": "3.8.5"
  }
 },
 "nbformat": 4,
 "nbformat_minor": 5
}
